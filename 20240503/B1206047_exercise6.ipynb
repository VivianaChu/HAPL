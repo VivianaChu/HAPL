{
  "nbformat": 4,
  "nbformat_minor": 0,
  "metadata": {
    "colab": {
      "provenance": []
    },
    "kernelspec": {
      "name": "python3",
      "display_name": "Python 3"
    },
    "language_info": {
      "name": "python"
    }
  },
  "cells": [
    {
      "cell_type": "code",
      "source": [
        "def christmas_tree(height):\n",
        "  trunk_height=5\n",
        "  trunk_width=3\n",
        "\n",
        "  for i in range(height):\n",
        "    for j in range(height-i-1):\n",
        "      print(' ',end='')\n",
        "    for k in range(2*i+1):\n",
        "      print('*',end='')\n",
        "    print()\n",
        "  for i in range(trunk_height):\n",
        "    for j in range(height-trunk_width//2-1):\n",
        "      print(' ',end=\"\")\n",
        "    for k in range(trunk_width):\n",
        "      print(\"*\",end=\"\")\n",
        "    print()\n",
        "\n",
        "tree_height=int(input(\"請輸入聖誕樹的高度(至少7層):\"))\n",
        "christmas_tree(tree_height)"
      ],
      "metadata": {
        "colab": {
          "base_uri": "https://localhost:8080/"
        },
        "id": "6ygHCiwWGO6e",
        "outputId": "3a205b39-0ea5-4574-fad2-aff8fadb2f6e"
      },
      "execution_count": 11,
      "outputs": [
        {
          "output_type": "stream",
          "name": "stdout",
          "text": [
            "請輸入聖誕樹的高度(至少7層):9\n",
            "        *\n",
            "       ***\n",
            "      *****\n",
            "     *******\n",
            "    *********\n",
            "   ***********\n",
            "  *************\n",
            " ***************\n",
            "*****************\n",
            "       ***\n",
            "       ***\n",
            "       ***\n",
            "       ***\n",
            "       ***\n"
          ]
        }
      ]
    },
    {
      "cell_type": "code",
      "source": [
        "def calculate_bmi(height,weight):\n",
        "  try:\n",
        "    height=float(height)/100\n",
        "    weight=float(weight)\n",
        "    bmi=weight/(height*height)\n",
        "    return bmi\n",
        "  except ValueError:\n",
        "    raise ValueError(\"輸入內容錯誤\")\n",
        "def interpret_bmi(bmi):\n",
        "  if bmi<18.5:\n",
        "    return \"過輕\"\n",
        "  elif bmi>=18.5 and bmi<24:\n",
        "    return \"正常\"\n",
        "  elif bmi>=24 and bmi<27:\n",
        "    return \"過重\"\n",
        "  elif bmi>=27 and bmi<30:\n",
        "    return \"輕度肥胖\"\n",
        "  elif bmi>=30 and bmi<35:\n",
        "    return \"中度肥胖\"\n",
        "  else:\n",
        "    return \"重度肥胖\"\n",
        "try:\n",
        "  height=input(\"請輸入身高(公分):\")\n",
        "  weight=input(\"請輸入體重(公斤):\")\n",
        "\n",
        "  bmi=calculate_bmi(height,weight)\n",
        "  result=interpret_bmi(bmi)\n",
        "\n",
        "  print(\"BMI值:\",bmi)\n",
        "  print(\"體位:\",result)\n",
        "\n",
        "except ValueError as e:\n",
        "  print(str(e))"
      ],
      "metadata": {
        "colab": {
          "base_uri": "https://localhost:8080/"
        },
        "id": "P_XCX9mJJ1l2",
        "outputId": "7986a816-fa73-45bb-ae22-c9856edc6aed"
      },
      "execution_count": 15,
      "outputs": [
        {
          "output_type": "stream",
          "name": "stdout",
          "text": [
            "請輸入身高(公分):180\n",
            "請輸入體重(公斤):p\n",
            "輸入內容錯誤\n"
          ]
        }
      ]
    }
  ]
}