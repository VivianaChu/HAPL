{
  "nbformat": 4,
  "nbformat_minor": 0,
  "metadata": {
    "colab": {
      "provenance": []
    },
    "kernelspec": {
      "name": "python3",
      "display_name": "Python 3"
    },
    "language_info": {
      "name": "python"
    }
  },
  "cells": [
    {
      "cell_type": "code",
      "execution_count": 22,
      "metadata": {
        "colab": {
          "base_uri": "https://localhost:8080/"
        },
        "id": "FjfnfzEj9Jbb",
        "outputId": "de0219e2-eb3c-4715-ba39-1dcdeaa7c95e"
      },
      "outputs": [
        {
          "output_type": "stream",
          "name": "stdout",
          "text": [
            "請輸入年份:2024\n",
            "2024 是閏年\n"
          ]
        }
      ],
      "source": [
        "year=input(\"請輸入年份:\")\n",
        "year = int(year)\n",
        "if year<1583:\n",
        "  if year%4==0:\n",
        "    print(year, '是閏年')\n",
        "  else:\n",
        "    print(year, '不是閏年')\n",
        "if year>1582:\n",
        "  if year % 4 == 0 and year % 100 != 0:\n",
        "    print(year, '是閏年')\n",
        "  elif year % 4 == 0 and year % 100 == 0 and year % 400 == 0:\n",
        "    print(year, '是閏年')\n",
        "  else:\n",
        "    print(year, '是平年')\n",
        "\n",
        "\n",
        "\n"
      ]
    }
  ]
}