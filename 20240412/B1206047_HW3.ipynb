{
  "nbformat": 4,
  "nbformat_minor": 0,
  "metadata": {
    "colab": {
      "provenance": []
    },
    "kernelspec": {
      "name": "python3",
      "display_name": "Python 3"
    },
    "language_info": {
      "name": "python"
    }
  },
  "cells": [
    {
      "cell_type": "code",
      "execution_count": 21,
      "metadata": {
        "colab": {
          "base_uri": "https://localhost:8080/"
        },
        "id": "FjfnfzEj9Jbb",
        "outputId": "f0993e5b-3900-4fdf-ea47-7fbd36d5de0d"
      },
      "outputs": [
        {
          "output_type": "stream",
          "name": "stdout",
          "text": [
            "請輸入年份:2024\n",
            "2024 是閏年\n"
          ]
        }
      ],
      "source": [
        "year=input(\"請輸入年份:\")\n",
        "year = int(year)\n",
        "if year<1583:\n",
        "  if year%4==0:\n",
        "    print(year, '是閏年')\n",
        "  else:\n",
        "    print(year, '不是閏年')\n",
        "if year>1582:\n",
        "  if year % 4 == 0 and year % 100 != 0:\n",
        "    print(year, '是閏年')\n",
        "  elif year % 4 == 0 and year % 100 == 0 and year % 400 == 0:\n",
        "    print(year, '是閏年')\n",
        "  else:\n",
        "    print(year, '不是閏年')\n",
        "\n",
        "\n",
        "\n"
      ]
    }
  ]
}