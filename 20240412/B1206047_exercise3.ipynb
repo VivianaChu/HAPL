{
  "nbformat": 4,
  "nbformat_minor": 0,
  "metadata": {
    "colab": {
      "provenance": []
    },
    "kernelspec": {
      "name": "python3",
      "display_name": "Python 3"
    },
    "language_info": {
      "name": "python"
    }
  },
  "cells": [
    {
      "cell_type": "code",
      "execution_count": 10,
      "metadata": {
        "colab": {
          "base_uri": "https://localhost:8080/"
        },
        "id": "7y2P9pI7zGzW",
        "outputId": "a2ab5cdc-22a3-4192-a6fc-d97d81906e71"
      },
      "outputs": [
        {
          "output_type": "stream",
          "name": "stdout",
          "text": [
            "請輸入身高度(cm): 160\n",
            "請輪入體重(kg): 50\n",
            "BMI= 19.531249999999996\n",
            "體位:適中\n"
          ]
        }
      ],
      "source": [
        "height=float(input(\"請輸入身高度(cm): \"))\n",
        "weight=float(input(\"請輪入體重(kg): \"))\n",
        "height/=100\n",
        "BMI=weight/height**2\n",
        "print(\"BMI=\",BMI)\n",
        "if float(BMI)<18.5:\n",
        "  print(\"體位:過輕\")\n",
        "elif float(BMI)<24:\n",
        "  print(\"體位:適中\")\n",
        "elif float(BMI)<27:\n",
        "  print(\"體位:過重\")\n",
        "else:\n",
        "  print(\"體位:肥胖\")"
      ]
    },
    {
      "cell_type": "code",
      "source": [
        "a=input(\"請輸入第一個數字:\")\n",
        "c=input(\"請輸入運算符號:\")\n",
        "\n",
        "b=input(\"請輸入第二個數字:\")\n",
        "\n",
        "if c == '+':\n",
        "  print(int(a)+int(b))\n",
        "if c == '-':\n",
        "  print(int(a)-int(b))\n",
        "if c == '*':\n",
        "  print(int(a)*int(b))\n",
        "if c == '/':\n",
        "  print(int(a)/int(b))\n"
      ],
      "metadata": {
        "colab": {
          "base_uri": "https://localhost:8080/"
        },
        "id": "czEAEU1S4O_T",
        "outputId": "4200c29b-3790-4bf0-dce3-831d8fd3a9c7"
      },
      "execution_count": 14,
      "outputs": [
        {
          "output_type": "stream",
          "name": "stdout",
          "text": [
            "請輸入第一個數字:50\n",
            "請輸入運算符號:/\n",
            "請輸入第二個數字:5\n",
            "10.0\n"
          ]
        }
      ]
    }
  ]
}