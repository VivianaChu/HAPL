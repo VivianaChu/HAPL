{
  "nbformat": 4,
  "nbformat_minor": 0,
  "metadata": {
    "colab": {
      "provenance": []
    },
    "kernelspec": {
      "name": "python3",
      "display_name": "Python 3"
    },
    "language_info": {
      "name": "python"
    }
  },
  "cells": [
    {
      "cell_type": "code",
      "execution_count": null,
      "metadata": {
        "colab": {
          "base_uri": "https://localhost:8080/"
        },
        "id": "-URBRQHubJtW",
        "outputId": "16749e96-0ec5-491b-80d2-001883cd6e89"
      },
      "outputs": [
        {
          "output_type": "stream",
          "name": "stdout",
          "text": [
            "I'm a student\n"
          ]
        }
      ],
      "source": [
        "print(\"I'm a student\")"
      ]
    },
    {
      "cell_type": "code",
      "source": [
        "x1,y1=map(float,input(\"請輸入A(x1,y1)的座標點: \").split(\",\"))\n",
        "x2,y2=map(float,input(\"請輸入B(x2,y2)的座標點: \").split(\",\"))\n",
        "distance=((x2-x1)**2+(y2-y1)**2)**(1/2)\n",
        "print(\"AB間的距離為\",distance)"
      ],
      "metadata": {
        "colab": {
          "base_uri": "https://localhost:8080/"
        },
        "id": "pDb0M3ufbVSp",
        "outputId": "92fbfb96-1235-4990-8048-09ab31763684"
      },
      "execution_count": 4,
      "outputs": [
        {
          "output_type": "stream",
          "name": "stdout",
          "text": [
            "請輸入A(x1,y1)的座標點: 4,5\n",
            "請輸入B(x2,y2)的座標點: 6,9\n",
            "AB間的距離為 4.47213595499958\n"
          ]
        }
      ]
    },
    {
      "cell_type": "code",
      "source": [
        "height=float(input(\"請輸入身高度(m): \"))\n",
        "weight=float(input(\"請輪入體重(kg): \"))\n",
        "height**=2\n",
        "BMI=weight/height\n",
        "print(\"BMI=\",BMI)"
      ],
      "metadata": {
        "colab": {
          "base_uri": "https://localhost:8080/"
        },
        "id": "406DV0pvexm5",
        "outputId": "2fe013d7-29f1-4f8b-9ac0-f920704f2125"
      },
      "execution_count": 5,
      "outputs": [
        {
          "output_type": "stream",
          "name": "stdout",
          "text": [
            "請輸入身高度(m): 1.80\n",
            "請輪入體重(kg): 70\n",
            "BMI= 21.604938271604937\n"
          ]
        }
      ]
    }
  ]
}