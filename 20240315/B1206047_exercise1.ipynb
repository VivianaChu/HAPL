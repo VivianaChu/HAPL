{
  "nbformat": 4,
  "nbformat_minor": 0,
  "metadata": {
    "colab": {
      "provenance": []
    },
    "kernelspec": {
      "name": "python3",
      "display_name": "Python 3"
    },
    "language_info": {
      "name": "python"
    }
  },
  "cells": [
    {
      "cell_type": "code",
      "execution_count": 2,
      "metadata": {
        "colab": {
          "base_uri": "https://localhost:8080/"
        },
        "id": "cz1WN-uzy-D7",
        "outputId": "57e8c0c4-ef8d-4139-e84b-af9df818f10d"
      },
      "outputs": [
        {
          "output_type": "stream",
          "name": "stdout",
          "text": [
            "長庚大學\n",
            "職能治療學系\n",
            "朱穎琳\n"
          ]
        }
      ],
      "source": [
        "a='''長庚大學\n",
        "職能治療學系\n",
        "朱穎琳'''\n",
        "print(a)"
      ]
    },
    {
      "cell_type": "code",
      "source": [
        "a=3\n",
        "b=5\n",
        "print(a**b)"
      ],
      "metadata": {
        "colab": {
          "base_uri": "https://localhost:8080/"
        },
        "id": "C-YjKI3Gz2V7",
        "outputId": "dcc61edc-790f-4bf9-f5e8-efab9080df46"
      },
      "execution_count": 4,
      "outputs": [
        {
          "output_type": "stream",
          "name": "stdout",
          "text": [
            "243\n"
          ]
        }
      ]
    },
    {
      "cell_type": "code",
      "source": [
        "a=3\n",
        "b-5\n",
        "a/=b\n",
        "print(a)"
      ],
      "metadata": {
        "colab": {
          "base_uri": "https://localhost:8080/"
        },
        "id": "qDj1Nq2U0JyK",
        "outputId": "297e792b-d175-4a02-d5f7-2ff6792c3567"
      },
      "execution_count": 8,
      "outputs": [
        {
          "output_type": "stream",
          "name": "stdout",
          "text": [
            "0.6\n"
          ]
        }
      ]
    }
  ]
}