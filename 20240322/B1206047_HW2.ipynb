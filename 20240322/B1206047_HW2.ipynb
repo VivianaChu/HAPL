{
  "nbformat": 4,
  "nbformat_minor": 0,
  "metadata": {
    "colab": {
      "provenance": []
    },
    "kernelspec": {
      "name": "python3",
      "display_name": "Python 3"
    },
    "language_info": {
      "name": "python"
    }
  },
  "cells": [
    {
      "cell_type": "code",
      "execution_count": 8,
      "metadata": {
        "colab": {
          "base_uri": "https://localhost:8080/"
        },
        "id": "VLCLQ638tbl8",
        "outputId": "65908d30-b37b-402a-f099-6ad753bbdb64"
      },
      "outputs": [
        {
          "output_type": "stream",
          "name": "stdout",
          "text": [
            "A\n",
            "['k', 'G', 'H']\n"
          ]
        }
      ],
      "source": [
        "a='C,B,A'\n",
        "b=[\"F\",'G','H']\n",
        "\n",
        "a=a.split(\",\")\n",
        "c=a+b\n",
        "c[0]='k'\n",
        "\n",
        "print(c[2])\n",
        "\n",
        "del c[1:4]\n",
        "\n",
        "print(c)"
      ]
    },
    {
      "cell_type": "code",
      "source": [
        "a=input('Please input a eight-digit number')\n",
        "print(a[4])"
      ],
      "metadata": {
        "colab": {
          "base_uri": "https://localhost:8080/"
        },
        "id": "FreFAhuZv-S8",
        "outputId": "6f476960-4d39-4f93-e48b-eb561cadb10f"
      },
      "execution_count": 7,
      "outputs": [
        {
          "output_type": "stream",
          "name": "stdout",
          "text": [
            "Please input a eight-digit number12345678\n",
            "5\n"
          ]
        }
      ]
    },
    {
      "cell_type": "code",
      "source": [
        "a=\"My ID is B1206047\"\n",
        "a=a.split(\" \")\n",
        "print(len(a))\n",
        "print(len(a[3]))"
      ],
      "metadata": {
        "colab": {
          "base_uri": "https://localhost:8080/"
        },
        "id": "x0caSamKxVO7",
        "outputId": "b71fdc52-1d41-4ae0-e545-887b097a44b3"
      },
      "execution_count": 20,
      "outputs": [
        {
          "output_type": "stream",
          "name": "stdout",
          "text": [
            "4\n",
            "8\n"
          ]
        }
      ]
    },
    {
      "cell_type": "code",
      "source": [
        "a = [['I','\\'','m'], 'a', 'student']\n",
        "print(a[0][2])"
      ],
      "metadata": {
        "colab": {
          "base_uri": "https://localhost:8080/"
        },
        "id": "m5VXvVuqzJkj",
        "outputId": "459724e2-d8db-4b19-c0a1-f4ae2b6d1ebe"
      },
      "execution_count": 21,
      "outputs": [
        {
          "output_type": "stream",
          "name": "stdout",
          "text": [
            "m\n"
          ]
        }
      ]
    }
  ]
}